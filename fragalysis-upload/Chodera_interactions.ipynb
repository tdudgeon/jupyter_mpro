{
 "cells": [
  {
   "cell_type": "code",
   "execution_count": 7,
   "metadata": {},
   "outputs": [],
   "source": [
    "from rdkit import Chem\n",
    "import gzip"
   ]
  },
  {
   "cell_type": "code",
   "execution_count": 8,
   "metadata": {},
   "outputs": [],
   "source": [
    "mol0 = Chem.MolFromSmiles('C')\n",
    "mol0.SetProp('_Name', 'ver_1.2')\n",
    "mol0.SetProp('submitter_name', 'Tim Dudgeon')\n",
    "mol0.SetProp('submitter_email', 'tdudgeon@informaticsmatters.com')\n",
    "mol0.SetProp('submitter_institution', 'Informatics Matters Ltd.')\n",
    "mol0.SetProp('generation_date', '2020-11-06')\n",
    "mol0.SetProp('method', \"ODDT interaction for J Chodera's sprint 5 poses run 1\")\n",
    "mol0.SetProp('ref_pdb', 'All ligands were evaluated against Mpro-x11498_0')\n",
    "mol0.SetProp('ref_url', '...')\n",
    "mol0.SetProp('compound', 'moonshot ID')\n",
    "mol0.SetProp('intermediate', 'chemical scaffold from which molecule is enumerated')\n",
    "mol0.SetProp('clash_score', 'protein-ligand clash score')\n",
    "mol0.SetProp('docking_score', 'score from docking')\n",
    "mol0.SetProp('overlap_score', '')\n",
    "mol0.SetProp('MMFF_internal_energy', 'Internal enegy of the ligand')\n",
    "mol0.SetProp('HydrogenBondInteraction', 'List of h-bond interactions')\n",
    "mol0.SetProp('HalogenBondInteraction', 'List of halogen bond interactions')\n",
    "mol0.SetProp('HydrophobicInteraction', 'List of hydrophobic interactions')\n",
    "mol0.SetProp('PiStackingInteraction', 'List of pi-stacking interactions')\n",
    "mol0.SetProp('PiCationInteraction', 'List of pi-cation interactions')\n",
    "mol0.SetProp('SaltBridgeInteraction', 'List of salt bridge interactions')\n",
    "mol0.SetProp('NumTotalInteractions', 'Total number of interactions')\n",
    "mol0.SetProp('NumKeyInteractions', 'Number of key interactions (h-bonds)')\n",
    "mol0.SetProp('HydrogenBond:THR25SC', 'Score for THR25SC h-bond')\n",
    "mol0.SetProp('HydrogenBond:HIS41BO', 'Score for HIS41BO h-bond')\n",
    "mol0.SetProp('HydrogenBond:HIS41SC', 'Score for HIS41SC h-bond')\n",
    "mol0.SetProp('HydrogenBond:CYS44BO', 'Score for CYS44BO h-bond')\n",
    "mol0.SetProp('HydrogenBond:SER46BN', 'Score for SER46BN h-bond')\n",
    "mol0.SetProp('HydrogenBond:PHE140BO', 'Score for PHE140BO h-bond')\n",
    "mol0.SetProp('HydrogenBond:ASN142SC', 'Score for ASN142SC h-bond')\n",
    "mol0.SetProp('HydrogenBond:GLY143BN', 'Score for GLY143BN h-bond')\n",
    "mol0.SetProp('HydrogenBond:SER144BN', 'Score for SER144BN h-bond')\n",
    "mol0.SetProp('HydrogenBond:CYS145BN', 'Score for CYS145BN h-bond')\n",
    "mol0.SetProp('HydrogenBond:HIS163SC', 'Score for HIS163SC h-bond')\n",
    "mol0.SetProp('HydrogenBond:HIS164BO', 'Score for HIS164BO h-bond')\n",
    "mol0.SetProp('HydrogenBond:GLU166BN', 'Score for GLU166BN h-bond')\n",
    "mol0.SetProp('HydrogenBond:GLU166BO', 'Score for GLU166BO h-bond')\n",
    "mol0.SetProp('HydrogenBond:GLU166SC', 'Score for GLU166SC h-bond')\n",
    "mol0.SetProp('HydrogenBond:ARG188BN', 'Score for ARG188BN h-bond')\n",
    "mol0.SetProp('HydrogenBond:GLN189SC', 'Score for GLN189SC h-bond')\n",
    "mol0.SetProp('KeyInteractions', 'A list of the key interactions found and their scores')"
   ]
  },
  {
   "cell_type": "code",
   "execution_count": 9,
   "metadata": {},
   "outputs": [
    {
     "name": "stdout",
     "output_type": "stream",
     "text": [
      "Wrote 15722 molecules\n"
     ]
    }
   ],
   "source": [
    "gz = gzip.open('/home/timbo/github/im/pipelines/src/python/sprint-5-microstates-x11498-inters.sdf.gz')\n",
    "mols = Chem.ForwardSDMolSupplier(gz)\n",
    "\n",
    "w = Chem.SDWriter('collated.sdf')\n",
    "w.write(mol0)\n",
    "count = 1\n",
    "for mol in mols:\n",
    "    w.write(mol)\n",
    "    count += 1\n",
    "\n",
    "w.close()\n",
    "print('Wrote', count, 'molecules')"
   ]
  },
  {
   "cell_type": "code",
   "execution_count": null,
   "metadata": {},
   "outputs": [],
   "source": []
  }
 ],
 "metadata": {
  "kernelspec": {
   "display_name": "Python 3",
   "language": "python",
   "name": "python3"
  },
  "language_info": {
   "codemirror_mode": {
    "name": "ipython",
    "version": 3
   },
   "file_extension": ".py",
   "mimetype": "text/x-python",
   "name": "python",
   "nbconvert_exporter": "python",
   "pygments_lexer": "ipython3",
   "version": "3.8.5"
  }
 },
 "nbformat": 4,
 "nbformat_minor": 4
}
